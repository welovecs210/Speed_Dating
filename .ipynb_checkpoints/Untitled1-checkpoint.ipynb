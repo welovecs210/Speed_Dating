{
 "cells": [
  {
   "cell_type": "code",
   "execution_count": 1,
   "metadata": {
    "collapsed": true
   },
   "outputs": [],
   "source": [
    "import pandas as pd\n",
    "import numpy as np\n",
    "import matplotlib.pyplot as plt\n",
    "import seaborn as sns\n",
    "from scipy import stats\n",
    "from sklearn.dummy import DummyClassifier\n",
    "from sklearn.model_selection import train_test_split\n",
    "from sklearn.preprocessing import LabelEncoder\n",
    "from sklearn import tree\n",
    "from sklearn.linear_model import Perceptron\n",
    "from sklearn.metrics import accuracy_score\n",
    "from sklearn.neural_network import MLPClassifier\n",
    "from sklearn.svm import SVC\n",
    "from sklearn.ensemble import RandomForestClassifier\n",
    "from sklearn.naive_bayes import GaussianNB\n",
    "from sklearn.decomposition import PCA\n",
    "from sklearn.preprocessing import StandardScaler\n",
    "\n",
    "%matplotlib inline"
   ]
  },
  {
   "cell_type": "code",
   "execution_count": 2,
   "metadata": {
    "collapsed": true
   },
   "outputs": [],
   "source": [
    "df = pd.read_csv('speed_dating.csv',encoding = \"ISO-8859-1\")\n"
   ]
  },
  {
   "cell_type": "code",
   "execution_count": 270,
   "metadata": {},
   "outputs": [
    {
     "data": {
      "text/plain": [
       "array([ 15.  ,  30.  ,    nan,  20.  ,  35.  ,  50.  ,  40.  ,  25.  ,\n",
       "        70.  ,  10.  ,   0.  ,  18.  ,  60.  ,   5.  ,  11.36,   9.52,\n",
       "        17.02,  12.96,  18.6 ,  15.91,  17.78,  15.09,  15.69,  15.22,\n",
       "        10.87,  15.38,  11.9 ,  16.28,  14.29,  13.33,  16.67,  16.33,\n",
       "        18.75,  13.64,  14.55,  18.92,  15.79,  20.93,  23.26,  16.98,\n",
       "        22.5 ,  13.73,  18.37,  18.52,  14.58,  19.51,  17.65,  17.39,\n",
       "        75.  ,  33.  ,  17.  ,  16.  ,   9.  ,  13.  ,  45.  ,  22.  ,  80.  ])"
      ]
     },
     "execution_count": 270,
     "metadata": {},
     "output_type": "execute_result"
    }
   ],
   "source": [
    "dff[\"attr1_3\"].unique()"
   ]
  },
  {
   "cell_type": "code",
   "execution_count": 59,
   "metadata": {},
   "outputs": [
    {
     "data": {
      "text/plain": [
       "count    8273.000000\n",
       "mean        7.084733\n",
       "std         1.395783\n",
       "min         2.000000\n",
       "25%         6.000000\n",
       "50%         7.000000\n",
       "75%         8.000000\n",
       "max        10.000000\n",
       "Name: attr3_1, dtype: float64"
      ]
     },
     "execution_count": 59,
     "metadata": {},
     "output_type": "execute_result"
    }
   ],
   "source": [
    "df[\"attr3_1\"].describe()"
   ]
  },
  {
   "cell_type": "code",
   "execution_count": 6,
   "metadata": {
    "collapsed": true
   },
   "outputs": [],
   "source": [
    "dff = df.drop(['dec'],axis = 1)"
   ]
  },
  {
   "cell_type": "code",
   "execution_count": 7,
   "metadata": {},
   "outputs": [
    {
     "data": {
      "text/plain": [
       "0       0\n",
       "1       0\n",
       "2       1\n",
       "3       1\n",
       "4       1\n",
       "5       0\n",
       "6       0\n",
       "7       0\n",
       "8       1\n",
       "9       0\n",
       "10      0\n",
       "11      0\n",
       "12      0\n",
       "13      1\n",
       "14      0\n",
       "15      0\n",
       "16      0\n",
       "17      0\n",
       "18      1\n",
       "19      0\n",
       "20      0\n",
       "21      0\n",
       "22      0\n",
       "23      0\n",
       "24      0\n",
       "25      0\n",
       "26      0\n",
       "27      0\n",
       "28      0\n",
       "29      0\n",
       "       ..\n",
       "8348    0\n",
       "8349    0\n",
       "8350    0\n",
       "8351    0\n",
       "8352    0\n",
       "8353    0\n",
       "8354    0\n",
       "8355    0\n",
       "8356    1\n",
       "8357    1\n",
       "8358    0\n",
       "8359    0\n",
       "8360    1\n",
       "8361    0\n",
       "8362    1\n",
       "8363    1\n",
       "8364    0\n",
       "8365    0\n",
       "8366    0\n",
       "8367    0\n",
       "8368    0\n",
       "8369    0\n",
       "8370    0\n",
       "8371    1\n",
       "8372    0\n",
       "8373    0\n",
       "8374    0\n",
       "8375    0\n",
       "8376    0\n",
       "8377    0\n",
       "Name: match, Length: 8378, dtype: int64"
      ]
     },
     "execution_count": 7,
     "metadata": {},
     "output_type": "execute_result"
    }
   ],
   "source": [
    "dff[\"match\"]"
   ]
  },
  {
   "cell_type": "code",
   "execution_count": 8,
   "metadata": {
    "collapsed": true
   },
   "outputs": [],
   "source": [
    "X = dff.drop([\"match\"],axis = 1)"
   ]
  },
  {
   "cell_type": "code",
   "execution_count": 9,
   "metadata": {
    "collapsed": true
   },
   "outputs": [],
   "source": [
    "y = dff[\"match\"]"
   ]
  },
  {
   "cell_type": "code",
   "execution_count": 10,
   "metadata": {
    "collapsed": true
   },
   "outputs": [],
   "source": [
    "X_train, X_test, y_train, y_test = train_test_split(X, y, test_size=0.33, random_state=42)"
   ]
  },
  {
   "cell_type": "code",
   "execution_count": 11,
   "metadata": {
    "collapsed": true
   },
   "outputs": [],
   "source": [
    "\n",
    "dummy = DummyClassifier(strategy=\"most_frequent\")\n",
    "clf = tree.DecisionTreeClassifier()"
   ]
  },
  {
   "cell_type": "code",
   "execution_count": 12,
   "metadata": {
    "collapsed": true
   },
   "outputs": [],
   "source": [
    "le = LabelEncoder()"
   ]
  },
  {
   "cell_type": "code",
   "execution_count": 13,
   "metadata": {},
   "outputs": [
    {
     "data": {
      "text/plain": [
       "iid            0\n",
       "id             1\n",
       "gender         0\n",
       "idg            0\n",
       "condtn         0\n",
       "wave           0\n",
       "round          0\n",
       "position       0\n",
       "positin1    1846\n",
       "order          0\n",
       "partner        0\n",
       "pid           10\n",
       "match          0\n",
       "int_corr     158\n",
       "samerace       0\n",
       "age_o        104\n",
       "race_o        73\n",
       "pf_o_att      89\n",
       "pf_o_sin      89\n",
       "pf_o_int      89\n",
       "pf_o_fun      98\n",
       "pf_o_amb     107\n",
       "pf_o_sha     129\n",
       "dec_o          0\n",
       "attr_o       212\n",
       "sinc_o       287\n",
       "intel_o      306\n",
       "fun_o        360\n",
       "amb_o        722\n",
       "shar_o      1076\n",
       "            ... \n",
       "amb1_3      4404\n",
       "shar1_3     4404\n",
       "attr7_3     6362\n",
       "sinc7_3     6362\n",
       "intel7_3    6362\n",
       "fun7_3      6362\n",
       "amb7_3      6362\n",
       "shar7_3     6362\n",
       "attr4_3     5419\n",
       "sinc4_3     5419\n",
       "intel4_3    5419\n",
       "fun4_3      5419\n",
       "amb4_3      5419\n",
       "shar4_3     5419\n",
       "attr2_3     5419\n",
       "sinc2_3     5419\n",
       "intel2_3    5419\n",
       "fun2_3      5419\n",
       "amb2_3      5419\n",
       "shar2_3     6362\n",
       "attr3_3     4404\n",
       "sinc3_3     4404\n",
       "intel3_3    4404\n",
       "fun3_3      4404\n",
       "amb3_3      4404\n",
       "attr5_3     6362\n",
       "sinc5_3     6362\n",
       "intel5_3    6362\n",
       "fun5_3      6362\n",
       "amb5_3      6362\n",
       "Length: 195, dtype: int64"
      ]
     },
     "execution_count": 13,
     "metadata": {},
     "output_type": "execute_result"
    }
   ],
   "source": [
    "df.isnull().sum()"
   ]
  },
  {
   "cell_type": "code",
   "execution_count": 601,
   "metadata": {
    "collapsed": true
   },
   "outputs": [],
   "source": [
    "cont_attributes = df.select_dtypes(exclude=['object'])\n",
    "obj_attributes = df.select_dtypes(include=['object'])"
   ]
  },
  {
   "cell_type": "code",
   "execution_count": 604,
   "metadata": {},
   "outputs": [],
   "source": [
    "dff = df.copy()"
   ]
  },
  {
   "cell_type": "code",
   "execution_count": 606,
   "metadata": {
    "collapsed": true
   },
   "outputs": [],
   "source": [
    "def str_to_float(series):\n",
    "    return series.apply(lambda x: str(x).replace(\",\", \"\")).astype('float64')"
   ]
  },
  {
   "cell_type": "code",
   "execution_count": 607,
   "metadata": {
    "collapsed": true
   },
   "outputs": [],
   "source": [
    "for trait in ['mn_sat', 'tuition', 'income']:\n",
    "    dff[trait] = str_to_float(dff[trait])"
   ]
  },
  {
   "cell_type": "code",
   "execution_count": 608,
   "metadata": {
    "collapsed": true
   },
   "outputs": [],
   "source": [
    "cont_attributes = dff.select_dtypes(exclude=['object'])\n",
    "cont_attributes2 = dff.select_dtypes(exclude=['object'])\n",
    "obj_attributes = dff.select_dtypes(include=['object'])"
   ]
  },
  {
   "cell_type": "code",
   "execution_count": 636,
   "metadata": {},
   "outputs": [
    {
     "data": {
      "text/plain": [
       "['iid',\n",
       " 'id',\n",
       " 'gender',\n",
       " 'idg',\n",
       " 'condtn',\n",
       " 'wave',\n",
       " 'round',\n",
       " 'position',\n",
       " 'positin1',\n",
       " 'order',\n",
       " 'partner',\n",
       " 'pid',\n",
       " 'match',\n",
       " 'int_corr',\n",
       " 'samerace',\n",
       " 'age_o',\n",
       " 'race_o',\n",
       " 'pf_o_att',\n",
       " 'pf_o_sin',\n",
       " 'pf_o_int',\n",
       " 'pf_o_fun',\n",
       " 'pf_o_amb',\n",
       " 'pf_o_sha',\n",
       " 'dec_o',\n",
       " 'attr_o',\n",
       " 'sinc_o',\n",
       " 'intel_o',\n",
       " 'fun_o',\n",
       " 'amb_o',\n",
       " 'shar_o',\n",
       " 'like_o',\n",
       " 'prob_o',\n",
       " 'met_o',\n",
       " 'age',\n",
       " 'field_cd',\n",
       " 'mn_sat',\n",
       " 'tuition',\n",
       " 'race',\n",
       " 'imprace',\n",
       " 'imprelig',\n",
       " 'income',\n",
       " 'goal',\n",
       " 'date',\n",
       " 'go_out',\n",
       " 'career_c',\n",
       " 'sports',\n",
       " 'tvsports',\n",
       " 'exercise',\n",
       " 'dining',\n",
       " 'museums',\n",
       " 'art',\n",
       " 'hiking',\n",
       " 'gaming',\n",
       " 'clubbing',\n",
       " 'reading',\n",
       " 'tv',\n",
       " 'theater',\n",
       " 'movies',\n",
       " 'concerts',\n",
       " 'music',\n",
       " 'shopping',\n",
       " 'yoga',\n",
       " 'exphappy',\n",
       " 'expnum',\n",
       " 'attr1_1',\n",
       " 'sinc1_1',\n",
       " 'intel1_1',\n",
       " 'fun1_1',\n",
       " 'amb1_1',\n",
       " 'shar1_1',\n",
       " 'attr4_1',\n",
       " 'sinc4_1',\n",
       " 'intel4_1',\n",
       " 'fun4_1',\n",
       " 'amb4_1',\n",
       " 'shar4_1',\n",
       " 'attr2_1',\n",
       " 'sinc2_1',\n",
       " 'intel2_1',\n",
       " 'fun2_1',\n",
       " 'amb2_1',\n",
       " 'shar2_1',\n",
       " 'attr3_1',\n",
       " 'sinc3_1',\n",
       " 'fun3_1',\n",
       " 'intel3_1',\n",
       " 'amb3_1',\n",
       " 'attr5_1',\n",
       " 'sinc5_1',\n",
       " 'intel5_1',\n",
       " 'fun5_1',\n",
       " 'amb5_1',\n",
       " 'dec',\n",
       " 'attr',\n",
       " 'sinc',\n",
       " 'intel',\n",
       " 'fun',\n",
       " 'amb',\n",
       " 'shar',\n",
       " 'like',\n",
       " 'prob',\n",
       " 'met',\n",
       " 'match_es',\n",
       " 'attr1_s',\n",
       " 'sinc1_s',\n",
       " 'intel1_s',\n",
       " 'fun1_s',\n",
       " 'amb1_s',\n",
       " 'shar1_s',\n",
       " 'attr3_s',\n",
       " 'sinc3_s',\n",
       " 'intel3_s',\n",
       " 'fun3_s',\n",
       " 'amb3_s',\n",
       " 'satis_2',\n",
       " 'length',\n",
       " 'numdat_2',\n",
       " 'attr7_2',\n",
       " 'sinc7_2',\n",
       " 'intel7_2',\n",
       " 'fun7_2',\n",
       " 'amb7_2',\n",
       " 'shar7_2',\n",
       " 'attr1_2',\n",
       " 'sinc1_2',\n",
       " 'intel1_2',\n",
       " 'fun1_2',\n",
       " 'amb1_2',\n",
       " 'shar1_2',\n",
       " 'attr4_2',\n",
       " 'sinc4_2',\n",
       " 'intel4_2',\n",
       " 'fun4_2',\n",
       " 'amb4_2',\n",
       " 'shar4_2',\n",
       " 'attr2_2',\n",
       " 'sinc2_2',\n",
       " 'intel2_2',\n",
       " 'fun2_2',\n",
       " 'amb2_2',\n",
       " 'shar2_2',\n",
       " 'attr3_2',\n",
       " 'sinc3_2',\n",
       " 'intel3_2',\n",
       " 'fun3_2',\n",
       " 'amb3_2',\n",
       " 'attr5_2',\n",
       " 'sinc5_2',\n",
       " 'intel5_2',\n",
       " 'fun5_2',\n",
       " 'amb5_2',\n",
       " 'you_call',\n",
       " 'them_cal',\n",
       " 'date_3',\n",
       " 'numdat_3',\n",
       " 'num_in_3',\n",
       " 'attr1_3',\n",
       " 'sinc1_3',\n",
       " 'intel1_3',\n",
       " 'fun1_3',\n",
       " 'amb1_3',\n",
       " 'shar1_3',\n",
       " 'attr7_3',\n",
       " 'sinc7_3',\n",
       " 'intel7_3',\n",
       " 'fun7_3',\n",
       " 'amb7_3',\n",
       " 'shar7_3',\n",
       " 'attr4_3',\n",
       " 'sinc4_3',\n",
       " 'intel4_3',\n",
       " 'fun4_3',\n",
       " 'amb4_3',\n",
       " 'shar4_3',\n",
       " 'attr2_3',\n",
       " 'sinc2_3',\n",
       " 'intel2_3',\n",
       " 'fun2_3',\n",
       " 'amb2_3',\n",
       " 'shar2_3',\n",
       " 'attr3_3',\n",
       " 'sinc3_3',\n",
       " 'intel3_3',\n",
       " 'fun3_3',\n",
       " 'amb3_3',\n",
       " 'attr5_3',\n",
       " 'sinc5_3',\n",
       " 'intel5_3',\n",
       " 'fun5_3',\n",
       " 'amb5_3']"
      ]
     },
     "execution_count": 636,
     "metadata": {},
     "output_type": "execute_result"
    }
   ],
   "source": [
    "list(cont_attributes.columns)"
   ]
  },
  {
   "cell_type": "code",
   "execution_count": 612,
   "metadata": {},
   "outputs": [
    {
     "name": "stderr",
     "output_type": "stream",
     "text": [
      "/Users/erdembocugoz/anaconda3/lib/python3.6/site-packages/ipykernel_launcher.py:2: SettingWithCopyWarning: \n",
      "A value is trying to be set on a copy of a slice from a DataFrame.\n",
      "Try using .loc[row_indexer,col_indexer] = value instead\n",
      "\n",
      "See the caveats in the documentation: http://pandas.pydata.org/pandas-docs/stable/indexing.html#indexing-view-versus-copy\n",
      "  \n",
      "/Users/erdembocugoz/anaconda3/lib/python3.6/site-packages/ipykernel_launcher.py:4: SettingWithCopyWarning: \n",
      "A value is trying to be set on a copy of a slice from a DataFrame.\n",
      "Try using .loc[row_indexer,col_indexer] = value instead\n",
      "\n",
      "See the caveats in the documentation: http://pandas.pydata.org/pandas-docs/stable/indexing.html#indexing-view-versus-copy\n",
      "  after removing the cwd from sys.path.\n"
     ]
    }
   ],
   "source": [
    "for i in cont_attributes2.columns:\n",
    "    cont_attributes2[i] = cont_attributes2[i].fillna(cont_attributes2[i].mean())\n",
    "for i in cont_attributes.columns:\n",
    "    cont_attributes[i] = cont_attributes[i].fillna(cont_attributes[i].mean())"
   ]
  },
  {
   "cell_type": "code",
   "execution_count": null,
   "metadata": {},
   "outputs": [],
   "source": []
  },
  {
   "cell_type": "code",
   "execution_count": 590,
   "metadata": {
    "scrolled": true
   },
   "outputs": [
    {
     "name": "stderr",
     "output_type": "stream",
     "text": [
      "/Users/erdembocugoz/anaconda3/lib/python3.6/site-packages/ipykernel_launcher.py:2: SettingWithCopyWarning: \n",
      "A value is trying to be set on a copy of a slice from a DataFrame.\n",
      "Try using .loc[row_indexer,col_indexer] = value instead\n",
      "\n",
      "See the caveats in the documentation: http://pandas.pydata.org/pandas-docs/stable/indexing.html#indexing-view-versus-copy\n",
      "  \n",
      "/Users/erdembocugoz/anaconda3/lib/python3.6/site-packages/ipykernel_launcher.py:4: SettingWithCopyWarning: \n",
      "A value is trying to be set on a copy of a slice from a DataFrame.\n",
      "Try using .loc[row_indexer,col_indexer] = value instead\n",
      "\n",
      "See the caveats in the documentation: http://pandas.pydata.org/pandas-docs/stable/indexing.html#indexing-view-versus-copy\n",
      "  after removing the cwd from sys.path.\n"
     ]
    }
   ],
   "source": [
    "for i in cont_attributes.columns:\n",
    "    cont_attributes[i] = cont_attributes[i].fillna(cont_attributes[i].mean())\n",
    "for i in cont_attributes2.columns:\n",
    "    cont_attributes2[i] = cont_attributes2[i].fillna(cont_attributes2[i].mean())"
   ]
  },
  {
   "cell_type": "code",
   "execution_count": null,
   "metadata": {},
   "outputs": [],
   "source": []
  },
  {
   "cell_type": "code",
   "execution_count": 339,
   "metadata": {},
   "outputs": [
    {
     "data": {
      "text/plain": [
       "array([  6. ,   7. ,   5. ,   4. ,   8. ,   9. ,   3. ,  10. ,   1. ,\n",
       "         nan,   2. ,   0. ,   6.5,   7.5,   9.5,   8.5,   9.9,   3.5])"
      ]
     },
     "execution_count": 339,
     "metadata": {},
     "output_type": "execute_result"
    }
   ],
   "source": [
    "test_attr = cont_attributes2.copy()\n",
    "\n",
    "\n",
    "cont_attributes2[\"attr\"].unique()"
   ]
  },
  {
   "cell_type": "code",
   "execution_count": 340,
   "metadata": {
    "scrolled": true
   },
   "outputs": [
    {
     "name": "stderr",
     "output_type": "stream",
     "text": [
      "/Users/erdembocugoz/anaconda3/lib/python3.6/site-packages/pandas/core/indexing.py:517: SettingWithCopyWarning: \n",
      "A value is trying to be set on a copy of a slice from a DataFrame.\n",
      "Try using .loc[row_indexer,col_indexer] = value instead\n",
      "\n",
      "See the caveats in the documentation: http://pandas.pydata.org/pandas-docs/stable/indexing.html#indexing-view-versus-copy\n",
      "  self.obj[item] = s\n",
      "/Users/erdembocugoz/anaconda3/lib/python3.6/site-packages/ipykernel_launcher.py:3: SettingWithCopyWarning: \n",
      "A value is trying to be set on a copy of a slice from a DataFrame.\n",
      "Try using .loc[row_indexer,col_indexer] = value instead\n",
      "\n",
      "See the caveats in the documentation: http://pandas.pydata.org/pandas-docs/stable/indexing.html#indexing-view-versus-copy\n",
      "  This is separate from the ipykernel package so we can avoid doing imports until\n"
     ]
    }
   ],
   "source": [
    "for i in cont_attributes.columns:\n",
    "    if(i in  [\"attr1_1\",\"sinc1_1\",\"intel1_1\",\"fun1_1\",\"amb1_1\",\"shar1_1\",\"attr4_1\",\"sinc4_1\",\"intel4_1\",\"fun4_1\",\"amb4_1\",\"shar4_1\",\"attr2_1\",\"sinc2_1\",\"intel2_1\",\"fun2_1\",\"amb2_1\",\"shar2_1\",\"attr7_2\",\"sinc7_2\",\"intel7_2\",\"fun7_2\",\"amb7_2\",\"shar7_2\",\"attr4_2\",\"sinc4_2\",\"intel4_2\",\"fun4_2\",\"amb4_2\",\"shar4_2\",\"attr2_2\",\"sinc2_2\",\"intel2_2\",\"fun2_2\",\"amb2_2\",\"shar2_2\",\"attr7_3\",\"sinc7_3\",\"intel7_3\",\"fun7_3\",\"amb7_3\",\"shar7_3\",\"attr1_2\",\"sinc1_2\",\"intel1_2\",\"fun1_2\",\"amb1_2\",\"shar1_2\",\"attr1_3\",\"sinc1_3\",\"intel1_3\",\"fun1_3\",\"amb1_3\",\"shar1_3\",\"attr4_3\",\"sinc4_3\",\"intel4_3\",\"fun4_3\",\"amb4_3\",\"shar4_3\",\"attr2_3\",\"sinc2_3\",\"intel2_3\",\"fun2_3\",\"amb2_3\",\"shar2_3\",\"attr1_s\",\"sinc1_s\",\"intel1_s\",\"fun1_s\",\"amb1_s\",\"shar1_s\",\"pf_o_att\",\"pf_o_sin\",\"pf_o_int\",\"pf_o_sin\",\"pf_o_amb\",\"pf_o_sha\",\"pf_o_fun\"]):\n",
    "        cont_attributes[i] = (cont_attributes[\"attr4_2\"]/cont_attributes[\"attr4_2\"].mean())*5\n",
    "    if (max(cont_attributes[i])>1 and max(cont_attributes[i])< 20 and i != \"race\" and i != \"goal\" and i != \"date\"and i != \"go_out\" and i != \"expnum\" and  i != \"career_c\" and i != \"field_cd\") :\n",
    "        cont_attributes.loc[cont_attributes[i]<4,i] = 1\n",
    "        cont_attributes.loc[cont_attributes[i]>7,i] = 3\n",
    "        cont_attributes.loc[cont_attributes[i]>3,i] = 2\n",
    "        \n",
    "        \n",
    "        "
   ]
  },
  {
   "cell_type": "code",
   "execution_count": 600,
   "metadata": {},
   "outputs": [
    {
     "data": {
      "text/plain": [
       "array([  6.        ,   7.        ,   5.        ,   4.        ,\n",
       "         8.        ,   9.        ,   3.        ,  10.        ,\n",
       "         1.        ,   6.18999511,   2.        ,   0.        ,\n",
       "         6.5       ,   7.5       ,   9.5       ,   8.5       ,\n",
       "         9.9       ,   3.5       ])"
      ]
     },
     "execution_count": 600,
     "metadata": {},
     "output_type": "execute_result"
    }
   ],
   "source": [
    "cont_attributes[\"attr\"].unique()"
   ]
  },
  {
   "cell_type": "code",
   "execution_count": 221,
   "metadata": {},
   "outputs": [
    {
     "ename": "NameError",
     "evalue": "name 'a' is not defined",
     "output_type": "error",
     "traceback": [
      "\u001b[0;31m---------------------------------------------------------------------------\u001b[0m",
      "\u001b[0;31mNameError\u001b[0m                                 Traceback (most recent call last)",
      "\u001b[0;32m<ipython-input-221-e50bdb05fb74>\u001b[0m in \u001b[0;36m<module>\u001b[0;34m()\u001b[0m\n\u001b[0;32m----> 1\u001b[0;31m \u001b[0ma\u001b[0m\u001b[0;34m.\u001b[0m\u001b[0munique\u001b[0m\u001b[0;34m(\u001b[0m\u001b[0;34m)\u001b[0m\u001b[0;34m\u001b[0m\u001b[0m\n\u001b[0m",
      "\u001b[0;31mNameError\u001b[0m: name 'a' is not defined"
     ]
    }
   ],
   "source": [
    "a.unique()\n"
   ]
  },
  {
   "cell_type": "code",
   "execution_count": 744,
   "metadata": {},
   "outputs": [
    {
     "data": {
      "text/plain": [
       "DummyClassifier(constant=None, random_state=None, strategy='most_frequent')"
      ]
     },
     "execution_count": 744,
     "metadata": {},
     "output_type": "execute_result"
    }
   ],
   "source": [
    "dummy = DummyClassifier(strategy=\"most_frequent\")\n",
    "clf = tree.DecisionTreeClassifier(criterion=\"entropy\")\n",
    "oner = tree.DecisionTreeClassifier(max_depth=1)\n",
    "ppn = Perceptron(max_iter=40, eta0=0.1, random_state=0)\n",
    "mlp = MLPClassifier(verbose=0, random_state=0, nesterovs_momentum=False,\n",
    "                    solver='sgd', learning_rate='invscaling', momentum=0.9, learning_rate_init=0.2)\n",
    "nb = GaussianNB();\n",
    "X = cont_attributes.drop([\"dec\",\"attr\",\"shar\",\"fun\",\"sinc\",\"like\",\"prob\",\"amb\",\"intel\",\"match\",\"pid\",\"dec_o\",\"iid\",\"id\",\"round\",\"position\",\"positin1\",\"wave\",\"order\",\"partner\",\"idg\",\"condtn\",\"you_call\",\"them_cal\",\"date_3\",\"numdat_3\",\"num_in_3\",\"pf_o_att\",\"pf_o_sin\",\"pf_o_int\",\"pf_o_sin\",\"pf_o_amb\",\"pf_o_sha\",\"pf_o_fun\"],axis = 1)\n",
    "\n",
    "#X = StandardScaler().fit_transform(X)\n",
    "pca = PCA()\n",
    "principalComponents = pca.fit_transform(X)\n",
    "\n",
    "\n",
    "svc= SVC()\n",
    "rlf = RandomForestClassifier()\n",
    "y = cont_attributes[\"dec\"]\n",
    "\n",
    "X_train, X_test, y_train, y_test = train_test_split(X, y, test_size=0.33, random_state=42)\n",
    "dummy.fit(X_train,y_train)"
   ]
  },
  {
   "cell_type": "code",
   "execution_count": null,
   "metadata": {},
   "outputs": [],
   "source": []
  },
  {
   "cell_type": "code",
   "execution_count": 425,
   "metadata": {},
   "outputs": [
    {
     "data": {
      "text/plain": [
       "0.16471711625686322"
      ]
     },
     "execution_count": 425,
     "metadata": {},
     "output_type": "execute_result"
    }
   ],
   "source": [
    "df[\"match\"].mean()"
   ]
  },
  {
   "cell_type": "code",
   "execution_count": 652,
   "metadata": {},
   "outputs": [
    {
     "data": {
      "text/plain": [
       "DecisionTreeClassifier(class_weight=None, criterion='gini', max_depth=1,\n",
       "            max_features=None, max_leaf_nodes=None,\n",
       "            min_impurity_decrease=0.0, min_impurity_split=None,\n",
       "            min_samples_leaf=1, min_samples_split=2,\n",
       "            min_weight_fraction_leaf=0.0, presort=False, random_state=None,\n",
       "            splitter='best')"
      ]
     },
     "execution_count": 652,
     "metadata": {},
     "output_type": "execute_result"
    }
   ],
   "source": []
  },
  {
   "cell_type": "code",
   "execution_count": 721,
   "metadata": {},
   "outputs": [
    {
     "name": "stderr",
     "output_type": "stream",
     "text": [
      "/Users/erdembocugoz/anaconda3/lib/python3.6/site-packages/sklearn/neural_network/multilayer_perceptron.py:564: ConvergenceWarning: Stochastic Optimizer: Maximum iterations (200) reached and the optimization hasn't converged yet.\n",
      "  % self.max_iter, ConvergenceWarning)\n"
     ]
    },
    {
     "data": {
      "text/plain": [
       "MLPClassifier(activation='relu', alpha=0.0001, batch_size='auto', beta_1=0.9,\n",
       "       beta_2=0.999, early_stopping=False, epsilon=1e-08,\n",
       "       hidden_layer_sizes=(100,), learning_rate='invscaling',\n",
       "       learning_rate_init=0.2, max_iter=200, momentum=0.9,\n",
       "       nesterovs_momentum=False, power_t=0.5, random_state=0, shuffle=True,\n",
       "       solver='sgd', tol=0.0001, validation_fraction=0.1, verbose=0,\n",
       "       warm_start=False)"
      ]
     },
     "execution_count": 721,
     "metadata": {},
     "output_type": "execute_result"
    }
   ],
   "source": [
    "clf.fit(X_train,y_train)\n",
    "ppn.fit(X_train,y_train)\n",
    "mlp.fit(X_train,y_train)\n",
    "#svc.fit(X_train,y_train)\n",
    "\n"
   ]
  },
  {
   "cell_type": "code",
   "execution_count": 722,
   "metadata": {},
   "outputs": [
    {
     "data": {
      "text/plain": [
       "[<matplotlib.lines.Line2D at 0x1a10c6e0b8>]"
      ]
     },
     "execution_count": 722,
     "metadata": {},
     "output_type": "execute_result"
    },
    {
     "data": {
      "image/png": "[encoded data removed]",
      "text/plain": [
       "<Figure size 432x288 with 1 Axes>"
      ]
     },
     "metadata": {},
     "output_type": "display_data"
    }
   ],
   "source": [
    "plt.title(\"Loss Curves w.r.t iteration\")\n",
    "plt.plot(mlp.loss_curve_, c='blue', linestyle='-')"
   ]
  },
  {
   "cell_type": "code",
   "execution_count": 712,
   "metadata": {
    "collapsed": true
   },
   "outputs": [],
   "source": [
    "svc.fit(X_train,y_train)\n",
    "pred_svc = svc.predict(X_test)"
   ]
  },
  {
   "cell_type": "code",
   "execution_count": 723,
   "metadata": {
    "collapsed": true
   },
   "outputs": [],
   "source": [
    "pred = clf.predict(X_test)\n",
    "pred_percep = ppn.predict(X_test)\n",
    "pred_mlp = mlp.predict(X_test)\n",
    "#pred_svc = svc.predict(X_test)\n"
   ]
  },
  {
   "cell_type": "code",
   "execution_count": 740,
   "metadata": {},
   "outputs": [],
   "source": [
    "nb.fit(X_train,y_train)\n",
    "rlf.fit(X_train,y_train)\n",
    "oner.fit(X_train,y_train)\n",
    "pred_nb = nb.predict(X_test)\n",
    "pred_rlf = rlf.predict(X_test)\n",
    "pred_oner = dummy.predict(X_test)\n"
   ]
  },
  {
   "cell_type": "code",
   "execution_count": 742,
   "metadata": {},
   "outputs": [
    {
     "data": {
      "text/plain": [
       "0.79279064215803297"
      ]
     },
     "execution_count": 742,
     "metadata": {},
     "output_type": "execute_result"
    }
   ],
   "source": [
    "accuracy_score(y_test,pred_rlf)\n"
   ]
  },
  {
   "cell_type": "code",
   "execution_count": 743,
   "metadata": {},
   "outputs": [
    {
     "name": "stdout",
     "output_type": "stream",
     "text": [
      "Feature ranking:\n",
      "1. feature 73 (0.105116)\n",
      "attr\n",
      "2. feature 79 (0.069676)\n",
      "like\n",
      "3. feature 78 (0.040661)\n",
      "shar\n",
      "4. feature 80 (0.038330)\n",
      "prob\n",
      "5. feature 76 (0.035822)\n",
      "fun\n",
      "6. feature 82 (0.021371)\n",
      "match_es\n",
      "7. feature 12 (0.019674)\n",
      "prob_o\n",
      "8. feature 75 (0.018799)\n",
      "intel\n",
      "9. feature 74 (0.017629)\n",
      "sinc\n",
      "10. feature 1 (0.016815)\n",
      "int_corr\n",
      "11. feature 10 (0.014768)\n",
      "shar_o\n",
      "12. feature 11 (0.013741)\n",
      "like_o\n",
      "13. feature 5 (0.013650)\n",
      "attr_o\n",
      "14. feature 3 (0.013393)\n",
      "age_o\n",
      "15. feature 9 (0.012178)\n",
      "amb_o\n",
      "16. feature 8 (0.011658)\n",
      "fun_o\n",
      "17. feature 77 (0.011637)\n",
      "amb\n",
      "18. feature 7 (0.010500)\n",
      "intel_o\n",
      "19. feature 6 (0.008740)\n",
      "sinc_o\n",
      "20. feature 50 (0.008168)\n",
      "shar1_1\n",
      "21. feature 94 (0.007647)\n",
      "satis_2\n",
      "22. feature 88 (0.007184)\n",
      "shar1_s\n",
      "23. feature 4 (0.007145)\n",
      "race_o\n",
      "24. feature 57 (0.007040)\n",
      "attr2_1\n",
      "25. feature 63 (0.007024)\n",
      "attr3_1\n",
      "26. feature 109 (0.006932)\n",
      "attr4_2\n",
      "27. feature 62 (0.006421)\n",
      "shar2_1\n",
      "28. feature 60 (0.006330)\n",
      "fun2_1\n",
      "29. feature 32 (0.005843)\n",
      "hiking\n",
      "30. feature 103 (0.005805)\n",
      "attr1_2\n",
      "31. feature 58 (0.005797)\n",
      "sinc2_1\n",
      "32. feature 14 (0.005793)\n",
      "age\n",
      "33. feature 85 (0.005474)\n",
      "intel1_s\n",
      "34. feature 33 (0.005450)\n",
      "gaming\n",
      "35. feature 117 (0.005338)\n",
      "intel2_2\n",
      "36. feature 49 (0.005324)\n",
      "amb1_1\n",
      "37. feature 118 (0.005284)\n",
      "fun2_2\n",
      "38. feature 42 (0.005192)\n",
      "yoga\n",
      "39. feature 36 (0.005158)\n",
      "tv\n",
      "40. feature 89 (0.005125)\n",
      "attr3_s\n",
      "41. feature 59 (0.005041)\n",
      "intel2_1\n",
      "42. feature 51 (0.004979)\n",
      "attr4_1\n",
      "43. feature 61 (0.004975)\n",
      "amb2_1\n",
      "44. feature 125 (0.004975)\n",
      "amb3_2\n",
      "45. feature 106 (0.004924)\n",
      "fun1_2\n",
      "46. feature 134 (0.004854)\n",
      "fun1_3\n",
      "47. feature 27 (0.004823)\n",
      "tvsports\n",
      "48. feature 19 (0.004794)\n",
      "imprace\n",
      "49. feature 64 (0.004785)\n",
      "sinc3_1\n",
      "50. feature 26 (0.004748)\n",
      "sports\n",
      "51. feature 108 (0.004676)\n",
      "shar1_2\n",
      "52. feature 45 (0.004647)\n",
      "attr1_1\n",
      "53. feature 48 (0.004639)\n",
      "fun1_1\n",
      "54. feature 111 (0.004615)\n",
      "intel4_2\n",
      "55. feature 41 (0.004552)\n",
      "shopping\n",
      "56. feature 21 (0.004544)\n",
      "income\n",
      "57. feature 115 (0.004523)\n",
      "attr2_2\n",
      "58. feature 68 (0.004503)\n",
      "attr5_1\n",
      "59. feature 135 (0.004407)\n",
      "amb1_3\n",
      "60. feature 105 (0.004378)\n",
      "intel1_2\n",
      "61. feature 84 (0.004371)\n",
      "sinc1_s\n",
      "62. feature 56 (0.004366)\n",
      "shar4_1\n",
      "63. feature 37 (0.004363)\n",
      "theater\n",
      "64. feature 52 (0.004360)\n",
      "sinc4_1\n",
      "65. feature 53 (0.004293)\n",
      "intel4_1\n",
      "66. feature 121 (0.004261)\n",
      "attr3_2\n",
      "67. feature 83 (0.004182)\n",
      "attr1_s\n",
      "68. feature 71 (0.004181)\n",
      "fun5_1\n",
      "69. feature 31 (0.004179)\n",
      "art\n",
      "70. feature 40 (0.004150)\n",
      "music\n",
      "71. feature 20 (0.004150)\n",
      "imprelig\n",
      "72. feature 28 (0.004121)\n",
      "exercise\n",
      "73. feature 54 (0.004121)\n",
      "fun4_1\n",
      "74. feature 127 (0.004005)\n",
      "sinc5_2\n",
      "75. feature 44 (0.003976)\n",
      "expnum\n",
      "76. feature 34 (0.003934)\n",
      "clubbing\n",
      "77. feature 17 (0.003837)\n",
      "tuition\n",
      "78. feature 128 (0.003809)\n",
      "intel5_2\n",
      "79. feature 120 (0.003775)\n",
      "shar2_2\n",
      "80. feature 46 (0.003757)\n",
      "sinc1_1\n",
      "81. feature 65 (0.003736)\n",
      "fun3_1\n",
      "82. feature 55 (0.003724)\n",
      "amb4_1\n",
      "83. feature 107 (0.003717)\n",
      "amb1_2\n",
      "84. feature 87 (0.003700)\n",
      "amb1_s\n",
      "85. feature 104 (0.003659)\n",
      "sinc1_2\n",
      "86. feature 35 (0.003622)\n",
      "reading\n",
      "87. feature 2 (0.003601)\n",
      "samerace\n",
      "88. feature 47 (0.003588)\n",
      "intel1_1\n",
      "89. feature 30 (0.003582)\n",
      "museums\n",
      "90. feature 86 (0.003563)\n",
      "fun1_s\n",
      "91. feature 43 (0.003480)\n",
      "exphappy\n",
      "92. feature 113 (0.003476)\n",
      "amb4_2\n",
      "93. feature 16 (0.003353)\n",
      "mn_sat\n",
      "94. feature 130 (0.003331)\n",
      "amb5_2\n",
      "95. feature 129 (0.003329)\n",
      "fun5_2\n",
      "96. feature 136 (0.003326)\n",
      "shar1_3\n",
      "97. feature 116 (0.003270)\n",
      "sinc2_2\n",
      "98. feature 122 (0.003243)\n",
      "sinc3_2\n",
      "99. feature 0 (0.003227)\n",
      "gender\n",
      "100. feature 29 (0.003221)\n",
      "dining\n",
      "101. feature 67 (0.003211)\n",
      "amb3_1\n",
      "102. feature 155 (0.003186)\n",
      "attr3_3\n",
      "103. feature 15 (0.003168)\n",
      "field_cd\n",
      "104. feature 124 (0.003136)\n",
      "fun3_2\n",
      "105. feature 69 (0.003121)\n",
      "sinc5_1\n",
      "106. feature 39 (0.003067)\n",
      "concerts\n",
      "107. feature 18 (0.003053)\n",
      "race\n",
      "108. feature 112 (0.003025)\n",
      "fun4_2\n",
      "109. feature 110 (0.002978)\n",
      "sinc4_2\n",
      "110. feature 38 (0.002862)\n",
      "movies\n",
      "111. feature 102 (0.002856)\n",
      "shar7_2\n",
      "112. feature 132 (0.002832)\n",
      "sinc1_3\n",
      "113. feature 143 (0.002806)\n",
      "attr4_3\n",
      "114. feature 149 (0.002799)\n",
      "attr2_3\n",
      "115. feature 25 (0.002786)\n",
      "career_c\n",
      "116. feature 72 (0.002741)\n",
      "amb5_1\n",
      "117. feature 97 (0.002702)\n",
      "attr7_2\n",
      "118. feature 146 (0.002586)\n",
      "fun4_3\n",
      "119. feature 81 (0.002555)\n",
      "met\n",
      "120. feature 13 (0.002545)\n",
      "met_o\n",
      "121. feature 98 (0.002508)\n",
      "sinc7_2\n",
      "122. feature 119 (0.002491)\n",
      "amb2_2\n",
      "123. feature 126 (0.002431)\n",
      "attr5_2\n",
      "124. feature 159 (0.002374)\n",
      "amb3_3\n",
      "125. feature 152 (0.002361)\n",
      "fun2_3\n",
      "126. feature 70 (0.002354)\n",
      "intel5_1\n",
      "127. feature 23 (0.002318)\n",
      "date\n",
      "128. feature 158 (0.002207)\n",
      "fun3_3\n",
      "129. feature 131 (0.002188)\n",
      "attr1_3\n",
      "130. feature 140 (0.002162)\n",
      "fun7_3\n",
      "131. feature 22 (0.002160)\n",
      "goal\n",
      "132. feature 92 (0.002143)\n",
      "fun3_s\n",
      "133. feature 96 (0.002118)\n",
      "numdat_2\n",
      "134. feature 161 (0.002068)\n",
      "sinc5_3\n",
      "135. feature 24 (0.002039)\n",
      "go_out\n",
      "136. feature 91 (0.001939)\n",
      "intel3_s\n",
      "137. feature 133 (0.001933)\n",
      "intel1_3\n",
      "138. feature 114 (0.001923)\n",
      "shar4_2\n",
      "139. feature 157 (0.001882)\n",
      "intel3_3\n",
      "140. feature 123 (0.001875)\n",
      "intel3_2\n",
      "141. feature 145 (0.001816)\n",
      "intel4_3\n",
      "142. feature 164 (0.001801)\n",
      "amb5_3\n",
      "143. feature 90 (0.001748)\n",
      "sinc3_s\n",
      "144. feature 93 (0.001613)\n",
      "amb3_s\n",
      "145. feature 153 (0.001598)\n",
      "amb2_3\n",
      "146. feature 148 (0.001549)\n",
      "shar4_3\n",
      "147. feature 101 (0.001448)\n",
      "amb7_2\n",
      "148. feature 156 (0.001445)\n",
      "sinc3_3\n",
      "149. feature 100 (0.001363)\n",
      "fun7_2\n",
      "150. feature 154 (0.001281)\n",
      "shar2_3\n",
      "151. feature 144 (0.001186)\n",
      "sinc4_3\n",
      "152. feature 147 (0.001125)\n",
      "amb4_3\n",
      "153. feature 137 (0.001088)\n",
      "attr7_3\n",
      "154. feature 162 (0.001074)\n",
      "intel5_3\n",
      "155. feature 150 (0.001030)\n",
      "sinc2_3\n",
      "156. feature 139 (0.001007)\n",
      "intel7_3\n",
      "157. feature 66 (0.000941)\n",
      "intel3_1\n",
      "158. feature 141 (0.000923)\n",
      "amb7_3\n",
      "159. feature 99 (0.000866)\n",
      "intel7_2\n",
      "160. feature 160 (0.000732)\n",
      "attr5_3\n",
      "161. feature 138 (0.000706)\n",
      "sinc7_3\n",
      "162. feature 95 (0.000613)\n",
      "length\n",
      "163. feature 163 (0.000557)\n",
      "fun5_3\n",
      "164. feature 151 (0.000543)\n",
      "intel2_3\n",
      "165. feature 142 (0.000505)\n",
      "shar7_3\n"
     ]
    },
    {
     "data": {
      "image/png": "[encoded data removed]",
      "text/plain": [
       "<Figure size 432x288 with 1 Axes>"
      ]
     },
     "metadata": {},
     "output_type": "display_data"
    }
   ],
   "source": [
    "importances =  rlf.feature_importances_\n",
    "\n",
    "std = np.std([tree.feature_importances_ for tree in rlf.estimators_],\n",
    "             axis=0)\n",
    "indices = np.argsort(importances)[::-1]\n",
    "\n",
    "# Print the feature ranking\n",
    "print(\"Feature ranking:\")\n",
    "\n",
    "for f in range(X.shape[1]):\n",
    "    print(\"%d. feature %d (%f)\" % (f + 1, indices[f], importances[indices[f]]))\n",
    "    print(X.columns[indices[f]])\n",
    "\n",
    "# Plot the feature importances of the forest\n",
    "plt.figure()\n",
    "plt.title(\"Feature importances\")\n",
    "plt.bar(range(X.shape[1]), importances[indices],\n",
    "       color=\"r\", yerr=std[indices], align=\"center\")\n",
    "plt.xticks(range(X.shape[1]), indices)\n",
    "plt.xlim([-1, X.shape[1]])\n",
    "plt.show()"
   ]
  },
  {
   "cell_type": "code",
   "execution_count": 660,
   "metadata": {
    "collapsed": true
   },
   "outputs": [],
   "source": [
    "from sklearn.metrics import average_precision_score\n",
    "y_score = rlf.f\n",
    "average_precision = average_precision_score(y_test, y_score)\n",
    "\n",
    "print('Average precision-recall score: {0:0.2f}'.format(\n",
    "      average_precision))"
   ]
  },
  {
   "cell_type": "code",
   "execution_count": 693,
   "metadata": {},
   "outputs": [
    {
     "name": "stdout",
     "output_type": "stream",
     "text": [
      "[ 0.85918854  0.70465394  0.82637232  0.80119403  0.84776119]\n"
     ]
    }
   ],
   "source": [
    "from sklearn.model_selection import cross_val_score\n",
    "scores = cross_val_score(mlp, principalComponents, y, cv=5)\n",
    "print(scores)"
   ]
  },
  {
   "cell_type": "code",
   "execution_count": 380,
   "metadata": {
    "collapsed": true
   },
   "outputs": [],
   "source": [
    "oner.fit(X_train,y_train)\n",
    "with open(\"treee.dot\", 'w') as f:\n",
    "    f = tree.export_graphviz(clf, out_file=f) "
   ]
  },
  {
   "cell_type": "code",
   "execution_count": 153,
   "metadata": {},
   "outputs": [
    {
     "data": {
      "text/plain": [
       "'fun_o'"
      ]
     },
     "execution_count": 153,
     "metadata": {},
     "output_type": "execute_result"
    }
   ],
   "source": [
    "X_train.columns[15]\n"
   ]
  },
  {
   "cell_type": "code",
   "execution_count": 351,
   "metadata": {},
   "outputs": [
    {
     "ename": "InvocationException",
     "evalue": "GraphViz's executables not found",
     "output_type": "error",
     "traceback": [
      "\u001b[0;31m---------------------------------------------------------------------------\u001b[0m",
      "\u001b[0;31mInvocationException\u001b[0m                       Traceback (most recent call last)",
      "\u001b[0;32m<ipython-input-351-988912a3ccbc>\u001b[0m in \u001b[0;36m<module>\u001b[0;34m()\u001b[0m\n\u001b[1;32m      2\u001b[0m \u001b[0mdot_data\u001b[0m \u001b[0;34m=\u001b[0m \u001b[0mtree\u001b[0m\u001b[0;34m.\u001b[0m\u001b[0mexport_graphviz\u001b[0m\u001b[0;34m(\u001b[0m\u001b[0mclf\u001b[0m\u001b[0;34m,\u001b[0m \u001b[0mout_file\u001b[0m\u001b[0;34m=\u001b[0m\u001b[0;32mNone\u001b[0m\u001b[0;34m)\u001b[0m\u001b[0;34m\u001b[0m\u001b[0m\n\u001b[1;32m      3\u001b[0m \u001b[0mgraph\u001b[0m \u001b[0;34m=\u001b[0m \u001b[0mpydotplus\u001b[0m\u001b[0;34m.\u001b[0m\u001b[0mgraph_from_dot_data\u001b[0m\u001b[0;34m(\u001b[0m\u001b[0mdot_data\u001b[0m\u001b[0;34m)\u001b[0m\u001b[0;34m\u001b[0m\u001b[0m\n\u001b[0;32m----> 4\u001b[0;31m \u001b[0mgraph\u001b[0m\u001b[0;34m.\u001b[0m\u001b[0mwrite_pdf\u001b[0m\u001b[0;34m(\u001b[0m\u001b[0;34m\"iris2.pdf\"\u001b[0m\u001b[0;34m)\u001b[0m\u001b[0;34m\u001b[0m\u001b[0m\n\u001b[0m",
      "\u001b[0;32m~/anaconda3/lib/python3.6/site-packages/pydotplus/graphviz.py\u001b[0m in \u001b[0;36m<lambda>\u001b[0;34m(path, f, prog)\u001b[0m\n\u001b[1;32m   1808\u001b[0m                 \u001b[0;32mlambda\u001b[0m \u001b[0mpath\u001b[0m\u001b[0;34m,\u001b[0m\u001b[0;34m\u001b[0m\u001b[0m\n\u001b[1;32m   1809\u001b[0m                 \u001b[0mf\u001b[0m\u001b[0;34m=\u001b[0m\u001b[0mfrmt\u001b[0m\u001b[0;34m,\u001b[0m\u001b[0;34m\u001b[0m\u001b[0m\n\u001b[0;32m-> 1810\u001b[0;31m                 \u001b[0mprog\u001b[0m\u001b[0;34m=\u001b[0m\u001b[0mself\u001b[0m\u001b[0;34m.\u001b[0m\u001b[0mprog\u001b[0m\u001b[0;34m:\u001b[0m \u001b[0mself\u001b[0m\u001b[0;34m.\u001b[0m\u001b[0mwrite\u001b[0m\u001b[0;34m(\u001b[0m\u001b[0mpath\u001b[0m\u001b[0;34m,\u001b[0m \u001b[0mformat\u001b[0m\u001b[0;34m=\u001b[0m\u001b[0mf\u001b[0m\u001b[0;34m,\u001b[0m \u001b[0mprog\u001b[0m\u001b[0;34m=\u001b[0m\u001b[0mprog\u001b[0m\u001b[0;34m)\u001b[0m\u001b[0;34m\u001b[0m\u001b[0m\n\u001b[0m\u001b[1;32m   1811\u001b[0m             )\n\u001b[1;32m   1812\u001b[0m \u001b[0;34m\u001b[0m\u001b[0m\n",
      "\u001b[0;32m~/anaconda3/lib/python3.6/site-packages/pydotplus/graphviz.py\u001b[0m in \u001b[0;36mwrite\u001b[0;34m(self, path, prog, format)\u001b[0m\n\u001b[1;32m   1916\u001b[0m \u001b[0;34m\u001b[0m\u001b[0m\n\u001b[1;32m   1917\u001b[0m             \u001b[0;32melse\u001b[0m\u001b[0;34m:\u001b[0m\u001b[0;34m\u001b[0m\u001b[0m\n\u001b[0;32m-> 1918\u001b[0;31m                 \u001b[0mfobj\u001b[0m\u001b[0;34m.\u001b[0m\u001b[0mwrite\u001b[0m\u001b[0;34m(\u001b[0m\u001b[0mself\u001b[0m\u001b[0;34m.\u001b[0m\u001b[0mcreate\u001b[0m\u001b[0;34m(\u001b[0m\u001b[0mprog\u001b[0m\u001b[0;34m,\u001b[0m \u001b[0mformat\u001b[0m\u001b[0;34m)\u001b[0m\u001b[0;34m)\u001b[0m\u001b[0;34m\u001b[0m\u001b[0m\n\u001b[0m\u001b[1;32m   1919\u001b[0m         \u001b[0;32mfinally\u001b[0m\u001b[0;34m:\u001b[0m\u001b[0;34m\u001b[0m\u001b[0m\n\u001b[1;32m   1920\u001b[0m             \u001b[0;32mif\u001b[0m \u001b[0mclose\u001b[0m\u001b[0;34m:\u001b[0m\u001b[0;34m\u001b[0m\u001b[0m\n",
      "\u001b[0;32m~/anaconda3/lib/python3.6/site-packages/pydotplus/graphviz.py\u001b[0m in \u001b[0;36mcreate\u001b[0;34m(self, prog, format)\u001b[0m\n\u001b[1;32m   1958\u001b[0m             \u001b[0;32mif\u001b[0m \u001b[0mself\u001b[0m\u001b[0;34m.\u001b[0m\u001b[0mprogs\u001b[0m \u001b[0;32mis\u001b[0m \u001b[0;32mNone\u001b[0m\u001b[0;34m:\u001b[0m\u001b[0;34m\u001b[0m\u001b[0m\n\u001b[1;32m   1959\u001b[0m                 raise InvocationException(\n\u001b[0;32m-> 1960\u001b[0;31m                     'GraphViz\\'s executables not found')\n\u001b[0m\u001b[1;32m   1961\u001b[0m \u001b[0;34m\u001b[0m\u001b[0m\n\u001b[1;32m   1962\u001b[0m         \u001b[0;32mif\u001b[0m \u001b[0mprog\u001b[0m \u001b[0;32mnot\u001b[0m \u001b[0;32min\u001b[0m \u001b[0mself\u001b[0m\u001b[0;34m.\u001b[0m\u001b[0mprogs\u001b[0m\u001b[0;34m:\u001b[0m\u001b[0;34m\u001b[0m\u001b[0m\n",
      "\u001b[0;31mInvocationException\u001b[0m: GraphViz's executables not found"
     ]
    }
   ],
   "source": [
    "import pydotplus \n",
    "dot_data = tree.export_graphviz(clf, out_file=None) \n",
    "graph = pydotplus.graph_from_dot_data(dot_data) \n",
    "graph.write_pdf(\"iris2.pdf\")"
   ]
  },
  {
   "cell_type": "code",
   "execution_count": 323,
   "metadata": {
    "collapsed": true
   },
   "outputs": [],
   "source": [
    "basic = df[[\"attr\",\"intel\",\"fun\",\"sinc\",\"shar\",\"dec\"]]"
   ]
  },
  {
   "cell_type": "code",
   "execution_count": 221,
   "metadata": {},
   "outputs": [
    {
     "name": "stderr",
     "output_type": "stream",
     "text": [
      "/Users/erdembocugoz/anaconda3/lib/python3.6/site-packages/ipykernel_launcher.py:2: SettingWithCopyWarning: \n",
      "A value is trying to be set on a copy of a slice from a DataFrame.\n",
      "Try using .loc[row_indexer,col_indexer] = value instead\n",
      "\n",
      "See the caveats in the documentation: http://pandas.pydata.org/pandas-docs/stable/indexing.html#indexing-view-versus-copy\n",
      "  \n"
     ]
    }
   ],
   "source": [
    "for i in basic.columns:\n",
    "    basic[i] = basic[i].fillna(basic[i].mean())"
   ]
  },
  {
   "cell_type": "code",
   "execution_count": 222,
   "metadata": {
    "collapsed": true
   },
   "outputs": [],
   "source": [
    "X = basic.drop([\"dec\"],axis = 1)\n",
    "y = basic[\"dec\"]\n",
    "X_train, X_test, y_train, y_test = train_test_split(X, y, test_size=0.33, random_state=42)"
   ]
  },
  {
   "cell_type": "code",
   "execution_count": 223,
   "metadata": {},
   "outputs": [
    {
     "data": {
      "text/plain": [
       "DummyClassifier(constant=None, random_state=None, strategy='most_frequent')"
      ]
     },
     "execution_count": 223,
     "metadata": {},
     "output_type": "execute_result"
    }
   ],
   "source": [
    "dummy.fit(X_train,y_train)"
   ]
  },
  {
   "cell_type": "code",
   "execution_count": 224,
   "metadata": {
    "collapsed": true
   },
   "outputs": [],
   "source": [
    "dummyp = dummy.predict(X_test)"
   ]
  },
  {
   "cell_type": "code",
   "execution_count": 225,
   "metadata": {},
   "outputs": [
    {
     "data": {
      "text/plain": [
       "0.57576853526220617"
      ]
     },
     "execution_count": 225,
     "metadata": {},
     "output_type": "execute_result"
    }
   ],
   "source": [
    "accuracy_score(y_test,dummyp)"
   ]
  },
  {
   "cell_type": "code",
   "execution_count": 226,
   "metadata": {},
   "outputs": [
    {
     "data": {
      "text/plain": [
       "DecisionTreeClassifier(class_weight=None, criterion='gini', max_depth=None,\n",
       "            max_features=None, max_leaf_nodes=None,\n",
       "            min_impurity_decrease=0.0, min_impurity_split=None,\n",
       "            min_samples_leaf=1, min_samples_split=2,\n",
       "            min_weight_fraction_leaf=0.0, presort=False, random_state=None,\n",
       "            splitter='best')"
      ]
     },
     "execution_count": 226,
     "metadata": {},
     "output_type": "execute_result"
    }
   ],
   "source": [
    "clf.fit(X_train,y_train)"
   ]
  },
  {
   "cell_type": "code",
   "execution_count": 227,
   "metadata": {
    "collapsed": true
   },
   "outputs": [],
   "source": [
    "treep = clf.predict(X_test)"
   ]
  },
  {
   "cell_type": "code",
   "execution_count": 306,
   "metadata": {},
   "outputs": [
    {
     "data": {
      "text/plain": [
       "0.69981916817359857"
      ]
     },
     "execution_count": 306,
     "metadata": {},
     "output_type": "execute_result"
    }
   ],
   "source": [
    "accuracy_score(y_test,treep)"
   ]
  },
  {
   "cell_type": "code",
   "execution_count": null,
   "metadata": {
    "collapsed": true
   },
   "outputs": [],
   "source": []
  }
 ],
 "metadata": {
  "kernelspec": {
   "display_name": "Python 3",
   "language": "python",
   "name": "python3"
  },
  "language_info": {
   "codemirror_mode": {
    "name": "ipython",
    "version": 3
   },
   "file_extension": ".py",
   "mimetype": "text/x-python",
   "name": "python",
   "nbconvert_exporter": "python",
   "pygments_lexer": "ipython3",
   "version": "3.6.4"
  }
 },
 "nbformat": 4,
 "nbformat_minor": 2
}
